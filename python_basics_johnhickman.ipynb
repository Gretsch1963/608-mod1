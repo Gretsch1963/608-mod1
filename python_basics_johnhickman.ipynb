{
 "cells": [
  {
   "cell_type": "code",
   "execution_count": 1,
   "id": "1f793bd8-1bfa-4950-aa64-b399359dffa4",
   "metadata": {},
   "outputs": [
    {
     "data": {
      "text/plain": [
       "12"
      ]
     },
     "execution_count": 1,
     "metadata": {},
     "output_type": "execute_result"
    }
   ],
   "source": [
    "min (36, 27, 12)"
   ]
  },
  {
   "cell_type": "code",
   "execution_count": 2,
   "id": "3bb8b8f7-2df2-4c0e-b9e5-95b65147f8f4",
   "metadata": {},
   "outputs": [
    {
     "data": {
      "text/plain": [
       "(2, 5, 8)"
      ]
     },
     "execution_count": 2,
     "metadata": {},
     "output_type": "execute_result"
    }
   ],
   "source": [
    "2, 5, 8"
   ]
  },
  {
   "cell_type": "code",
   "execution_count": 3,
   "id": "ee67d5ea-130a-458c-a89a-28c59bc5059c",
   "metadata": {},
   "outputs": [
    {
     "data": {
      "text/plain": [
       "7"
      ]
     },
     "execution_count": 3,
     "metadata": {},
     "output_type": "execute_result"
    }
   ],
   "source": [
    "min (12, 14, 7, 9)"
   ]
  },
  {
   "cell_type": "code",
   "execution_count": 4,
   "id": "f896664e-aa3e-4508-abb4-815fa82098af",
   "metadata": {},
   "outputs": [
    {
     "data": {
      "text/plain": [
       "430"
      ]
     },
     "execution_count": 4,
     "metadata": {},
     "output_type": "execute_result"
    }
   ],
   "source": [
    "max (20, 40, 10, 130, 430, 93)"
   ]
  },
  {
   "cell_type": "code",
   "execution_count": 5,
   "id": "1d4cacaf-62ab-4dd8-9349-71b573ba1ba7",
   "metadata": {},
   "outputs": [
    {
     "ename": "TypeError",
     "evalue": "sum() takes at most 2 arguments (5 given)",
     "output_type": "error",
     "traceback": [
      "\u001b[0;31m---------------------------------------------------------------------------\u001b[0m",
      "\u001b[0;31mTypeError\u001b[0m                                 Traceback (most recent call last)",
      "Input \u001b[0;32mIn [5]\u001b[0m, in \u001b[0;36m<cell line: 1>\u001b[0;34m()\u001b[0m\n\u001b[0;32m----> 1\u001b[0m \u001b[38;5;28;43msum\u001b[39;49m\u001b[43m \u001b[49m\u001b[43m(\u001b[49m\u001b[38;5;241;43m12\u001b[39;49m\u001b[43m,\u001b[49m\u001b[43m \u001b[49m\u001b[38;5;241;43m13\u001b[39;49m\u001b[43m,\u001b[49m\u001b[43m \u001b[49m\u001b[38;5;241;43m133\u001b[39;49m\u001b[43m,\u001b[49m\u001b[43m \u001b[49m\u001b[38;5;241;43m120\u001b[39;49m\u001b[43m,\u001b[49m\u001b[43m \u001b[49m\u001b[38;5;241;43m356\u001b[39;49m\u001b[43m)\u001b[49m\n",
      "\u001b[0;31mTypeError\u001b[0m: sum() takes at most 2 arguments (5 given)"
     ]
    }
   ],
   "source": [
    "sum (12, 13, 133, 120, 356)"
   ]
  },
  {
   "cell_type": "code",
   "execution_count": 6,
   "id": "8d34b906-f4cc-44ee-8365-a677e2a2ae28",
   "metadata": {},
   "outputs": [
    {
     "data": {
      "text/plain": [
       "158"
      ]
     },
     "execution_count": 6,
     "metadata": {},
     "output_type": "execute_result"
    }
   ],
   "source": [
    "sum ([12, 13, 133])"
   ]
  },
  {
   "cell_type": "code",
   "execution_count": 7,
   "id": "db1311e0-12fe-424b-9781-ba0d9e6f7a13",
   "metadata": {},
   "outputs": [
    {
     "data": {
      "text/plain": [
       "range(13, 764)"
      ]
     },
     "execution_count": 7,
     "metadata": {},
     "output_type": "execute_result"
    }
   ],
   "source": [
    "range (13, 764)"
   ]
  },
  {
   "cell_type": "code",
   "execution_count": 8,
   "id": "c4ccafe8-3b93-4184-91ec-8ea5db7025cd",
   "metadata": {},
   "outputs": [
    {
     "ename": "TypeError",
     "evalue": "range expected at most 3 arguments, got 6",
     "output_type": "error",
     "traceback": [
      "\u001b[0;31m---------------------------------------------------------------------------\u001b[0m",
      "\u001b[0;31mTypeError\u001b[0m                                 Traceback (most recent call last)",
      "Input \u001b[0;32mIn [8]\u001b[0m, in \u001b[0;36m<cell line: 1>\u001b[0;34m()\u001b[0m\n\u001b[0;32m----> 1\u001b[0m \u001b[38;5;28;43mrange\u001b[39;49m\u001b[43m \u001b[49m\u001b[43m(\u001b[49m\u001b[38;5;241;43m13\u001b[39;49m\u001b[43m,\u001b[49m\u001b[43m \u001b[49m\u001b[38;5;241;43m32\u001b[39;49m\u001b[43m,\u001b[49m\u001b[43m \u001b[49m\u001b[38;5;241;43m321\u001b[39;49m\u001b[43m,\u001b[49m\u001b[43m \u001b[49m\u001b[38;5;241;43m987\u001b[39;49m\u001b[43m,\u001b[49m\u001b[43m \u001b[49m\u001b[38;5;241;43m1002\u001b[39;49m\u001b[43m,\u001b[49m\u001b[43m \u001b[49m\u001b[38;5;241;43m219\u001b[39;49m\u001b[43m)\u001b[49m\n",
      "\u001b[0;31mTypeError\u001b[0m: range expected at most 3 arguments, got 6"
     ]
    }
   ],
   "source": [
    "range (13, 32, 321, 987, 1002, 219)"
   ]
  },
  {
   "cell_type": "code",
   "execution_count": 9,
   "id": "5990e319-0cdd-41c4-8a7e-4171b8749df1",
   "metadata": {},
   "outputs": [
    {
     "data": {
      "text/plain": [
       "range(13, 32, 321)"
      ]
     },
     "execution_count": 9,
     "metadata": {},
     "output_type": "execute_result"
    }
   ],
   "source": [
    "range (13, 32, 321)"
   ]
  },
  {
   "cell_type": "code",
   "execution_count": 10,
   "id": "47a0f625-1228-4364-98c3-498e03f4adb2",
   "metadata": {},
   "outputs": [
    {
     "data": {
      "text/plain": [
       "range(0, 10)"
      ]
     },
     "execution_count": 10,
     "metadata": {},
     "output_type": "execute_result"
    }
   ],
   "source": [
    "range (10)"
   ]
  },
  {
   "cell_type": "code",
   "execution_count": 11,
   "id": "61a01183-688e-492f-b343-76fc8ff22e04",
   "metadata": {},
   "outputs": [
    {
     "data": {
      "text/plain": [
       "range(2, 5)"
      ]
     },
     "execution_count": 11,
     "metadata": {},
     "output_type": "execute_result"
    }
   ],
   "source": [
    "range (2,5)"
   ]
  },
  {
   "cell_type": "code",
   "execution_count": 12,
   "id": "bc9f9f6b-67c6-470a-82ec-ded8a23bd2f0",
   "metadata": {},
   "outputs": [
    {
     "data": {
      "text/plain": [
       "range(2, 5)"
      ]
     },
     "execution_count": 12,
     "metadata": {},
     "output_type": "execute_result"
    }
   ],
   "source": [
    "range (2, 5)"
   ]
  },
  {
   "cell_type": "code",
   "execution_count": null,
   "id": "173e7ea9-1d04-45d7-b200-7c4c6355ea75",
   "metadata": {},
   "outputs": [],
   "source": []
  }
 ],
 "metadata": {
  "kernelspec": {
   "display_name": "Python 3 (ipykernel)",
   "language": "python",
   "name": "python3"
  },
  "language_info": {
   "codemirror_mode": {
    "name": "ipython",
    "version": 3
   },
   "file_extension": ".py",
   "mimetype": "text/x-python",
   "name": "python",
   "nbconvert_exporter": "python",
   "pygments_lexer": "ipython3",
   "version": "3.9.12"
  }
 },
 "nbformat": 4,
 "nbformat_minor": 5
}
